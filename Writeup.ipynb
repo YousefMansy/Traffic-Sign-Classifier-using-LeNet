{
 "cells": [
  {
   "cell_type": "markdown",
   "metadata": {},
   "source": [
    "# Self-Driving Car Engineer Nanodegree\n",
    "\n",
    "## Deep Learning\n",
    "\n",
    "## Project: Build a Traffic Sign Recognition Classifier\n",
    "\n"
   ]
  },
  {
   "cell_type": "markdown",
   "metadata": {},
   "source": [
    "---\n",
    "## Step 0: Load The Data"
   ]
  },
  {
   "cell_type": "markdown",
   "metadata": {},
   "source": [
    "---\n",
    "\n",
    "## Step 1: Dataset Summary & Exploration\n"
   ]
  },
  {
   "cell_type": "markdown",
   "metadata": {},
   "source": [
    "### Provide a Basic Summary of the Data Set Using Python, Numpy and/or Pandas"
   ]
  },
  {
   "cell_type": "markdown",
   "metadata": {},
   "source": [
    "- Number of training examples = 34799\n",
    "- Number of testing examples = 12630\n",
    "- Image data shape = (34799, 32, 32, 3)\n",
    "- Number of classes = 43"
   ]
  },
  {
   "cell_type": "markdown",
   "metadata": {},
   "source": [
    "<img src=\"writeup_images/random.png\">"
   ]
  },
  {
   "cell_type": "markdown",
   "metadata": {},
   "source": [
    "### Include an exploratory visualization of the dataset"
   ]
  },
  {
   "cell_type": "markdown",
   "metadata": {},
   "source": [
    "<img src=\"writeup_images/hist.png\">"
   ]
  },
  {
   "cell_type": "markdown",
   "metadata": {},
   "source": [
    "----\n",
    "\n",
    "## Step 2: Design and Test a Model Architecture\n"
   ]
  },
  {
   "cell_type": "markdown",
   "metadata": {},
   "source": [
    "### Pre-process the Data Set (normalization, grayscale, etc.)"
   ]
  },
  {
   "cell_type": "markdown",
   "metadata": {},
   "source": [
    "#### The image data is converted into grayscale to help minimize training time."
   ]
  },
  {
   "cell_type": "markdown",
   "metadata": {},
   "source": [
    "#### Then the data is shuffled to randomize order of samples"
   ]
  },
  {
   "cell_type": "markdown",
   "metadata": {},
   "source": [
    "#### Then the image data is normalized so that the data has mean zero and equal variance."
   ]
  },
  {
   "cell_type": "markdown",
   "metadata": {},
   "source": [
    "### Model Architecture"
   ]
  },
  {
   "cell_type": "markdown",
   "metadata": {},
   "source": [
    "### This the LeNet Architecture, with the following layers:\n",
    "\n",
    "#### - 5x5 Convolution Layer (Input = 32x32x1, Output = 28x28x6)\n",
    "#### - ReLU Activation\n",
    "#### - 2x2 Max Pool (Input = 28x28x6, Output = 14x14x6)\n",
    "#### - 5x5 Convolution (Input = 14x14x6, Output = 10x10x16)\n",
    "#### - ReLU Activation\n",
    "#### - 2x2 Max Pool (Input = 10x10x16, Output = 5x5x16)\n",
    "#### - Flatten Layer (Input = 5x5x16, Output = 400)\n",
    "#### - Fully connected Layer (Input = 400, Output = 1024)\n",
    "#### - Dropout Layer\n",
    "#### - ReLU Activation\n",
    "#### - Fully connected Layer (Input = 1024, Output = 1024)\n",
    "#### - Dropout Layer\n",
    "#### - ReLU Activation\n",
    "#### - Fully connected Layer (Input = 1024, Output = 43)"
   ]
  },
  {
   "cell_type": "markdown",
   "metadata": {},
   "source": [
    "### Train, Validate and Test the Model"
   ]
  },
  {
   "cell_type": "markdown",
   "metadata": {},
   "source": [
    "A validation set can be used to assess how well the model is performing. A low accuracy on the training and validation\n",
    "sets imply underfitting. A high accuracy on the training set but low accuracy on the validation set implies overfitting."
   ]
  },
  {
   "cell_type": "markdown",
   "metadata": {},
   "source": [
    "### For training, Adam optimizer was used.\n",
    "\n",
    "### Hyperparametrs:\n",
    "#### -batch size: 64\n",
    "#### -epochs: 38\n",
    "#### -learning rate: 0.0008\n",
    "#### -mu: 0\n",
    "#### -sigma: 0.1"
   ]
  },
  {
   "cell_type": "markdown",
   "metadata": {},
   "source": [
    "# Validation set accuracy: 94.3%"
   ]
  },
  {
   "cell_type": "markdown",
   "metadata": {},
   "source": [
    "# Test set accuracy: 93%"
   ]
  },
  {
   "cell_type": "markdown",
   "metadata": {},
   "source": [
    "My approach was mostly trial and error. However, I had worked on a similar project using LeNet before prior to the ND, so I started from the parameters that I used then, However I was using 50 epochs initially, then I noticed that the accuracy doesn't get any better after the 38th epoch, so I stopped at that."
   ]
  },
  {
   "cell_type": "markdown",
   "metadata": {},
   "source": [
    "---\n",
    "\n",
    "## Step 3: Test a Model on New Images\n",
    "\n",
    "To give yourself more insight into how your model is working, download at least five pictures of German traffic signs from the web and use your model to predict the traffic sign type.\n",
    "\n",
    "You may find `signnames.csv` useful as it contains mappings from the class id (integer) to the actual sign name."
   ]
  },
  {
   "cell_type": "markdown",
   "metadata": {},
   "source": [
    "I have download 6 random german traffic signs from the internet and labelled them"
   ]
  },
  {
   "cell_type": "markdown",
   "metadata": {},
   "source": [
    "### Load and Output the Images"
   ]
  },
  {
   "cell_type": "markdown",
   "metadata": {},
   "source": [
    "<img src=\"writeup_images/internet.png\">"
   ]
  },
  {
   "cell_type": "markdown",
   "metadata": {},
   "source": [
    "### Predict the Sign Type for Each Image"
   ]
  },
  {
   "cell_type": "markdown",
   "metadata": {},
   "source": [
    "- Actual Label:\n",
    "[17, 4, 36, 25, 29, 38]\n",
    "- Output:\n",
    "[17  4 36 25 10 38]"
   ]
  },
  {
   "cell_type": "markdown",
   "metadata": {},
   "source": [
    "### Analyze Performance"
   ]
  },
  {
   "cell_type": "markdown",
   "metadata": {},
   "source": [
    "### Accuracy: 83.3 %"
   ]
  },
  {
   "cell_type": "markdown",
   "metadata": {},
   "source": [
    "The model succeeded at predicting 5 out of the 6 images, the only one that failed was the bicycle one, which I find a bit odd since it's taken at a pretty straight angle and doesn't have a lot of noise, but I suppose maybe there's a chance this is not the standard sign for the german signs which the model has been trained on. The accuracy here does seem to be lower than the accuracy with the test data, but then again this is a very small sample (6 images) so it's expected to get an unreliable accuracy estimation for the model's performance."
   ]
  },
  {
   "cell_type": "markdown",
   "metadata": {},
   "source": [
    "### Output Top 5 Softmax Probabilities For Each Image Found on the Web"
   ]
  },
  {
   "cell_type": "markdown",
   "metadata": {
    "scrolled": false
   },
   "source": [
    "Top softmax probabilities:\n",
    "\n",
    "Prediction: 17\n",
    "1. Label: 17 - Probability: 100.0%\n",
    "2. Label: 40 - Probability: 0.0%\n",
    "3. Label: 33 - Probability: 0.0%\n",
    "4. Label: 0 - Probability: 0.0%\n",
    "5. Label: 1 - Probability: 0.0%\n",
    "\n",
    "Prediction: 4\n",
    "1. Label: 4 - Probability: 100.0%\n",
    "2. Label: 0 - Probability: 0.0%\n",
    "3. Label: 1 - Probability: 0.0%\n",
    "4. Label: 6 - Probability: 0.0%\n",
    "5. Label: 18 - Probability: 0.0%\n",
    "\n",
    "Prediction: 36\n",
    "1. Label: 36 - Probability: 100.0%\n",
    "2. Label: 35 - Probability: 0.0%\n",
    "3. Label: 13 - Probability: 0.0%\n",
    "4. Label: 34 - Probability: 0.0%\n",
    "5. Label: 12 - Probability: 0.0%\n",
    "\n",
    "Prediction: 25\n",
    "1. Label: 25 - Probability: 100.0%\n",
    "2. Label: 30 - Probability: 0.0%\n",
    "3. Label: 21 - Probability: 0.0%\n",
    "4. Label: 24 - Probability: 0.0%\n",
    "5. Label: 11 - Probability: 0.0%\n",
    "\n",
    "Prediction: 29\n",
    "1. Label: 10 - Probability: 99.4%\n",
    "2. Label: 35 - Probability: 0.6%\n",
    "3. Label: 9 - Probability: 0.0%\n",
    "4. Label: 42 - Probability: 0.0%\n",
    "5. Label: 23 - Probability: 0.0%\n",
    "\n",
    "Prediction: 38\n",
    "1. Label: 38 - Probability: 100.0%\n",
    "2. Label: 0 - Probability: 0.0%\n",
    "3. Label: 1 - Probability: 0.0%\n",
    "4. Label: 2 - Probability: 0.0%\n",
    "5. Label: 3 - Probability: 0.0%"
   ]
  },
  {
   "cell_type": "markdown",
   "metadata": {},
   "source": [
    "The model seems to be pretty confident about most of the predictions, except for the one that failed, the bicycles one, where it didn't come near the correct guess at all, which bewilders me."
   ]
  }
 ],
 "metadata": {
  "anaconda-cloud": {},
  "kernelspec": {
   "display_name": "Python 3",
   "language": "python",
   "name": "python3"
  },
  "language_info": {
   "codemirror_mode": {
    "name": "ipython",
    "version": 3
   },
   "file_extension": ".py",
   "mimetype": "text/x-python",
   "name": "python",
   "nbconvert_exporter": "python",
   "pygments_lexer": "ipython3",
   "version": "3.6.3"
  }
 },
 "nbformat": 4,
 "nbformat_minor": 1
}
